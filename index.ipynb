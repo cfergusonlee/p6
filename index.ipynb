{
 "cells": [
  {
   "cell_type": "markdown",
   "metadata": {},
   "source": [
    "# PISA Data Cleanup <a class=\"tocSkip\"> \n",
    "[**Courtney Ferguson Lee**](https://www.linkedin.com/in/courtneyfergusonlee/)"
   ]
  },
  {
   "cell_type": "markdown",
   "metadata": {},
   "source": [
    "# Introduction\n",
    "\n",
    "PISA is a survey of students' skills and knowledge as they approach the end of compulsory education. It is not a conventional school test. Rather than examining how well students have learned the school curriculum, it looks at how well prepared they are for life beyond school.\n",
    "\n",
    "Over 510,000 students from 62 countries took part in the PISA 2012 assessment of reading, mathematics and science, representing about 28 million 15-year-olds globally. Of those countries, 44 took part in an assessment of creative problem solving and 18 in an assessment of financial literacy. Score data was not skewed by participation level but it was scaled using a calibration data set of 31,500 students.\n",
    "\n",
    "Countries that scored below 450 on previous PISA tests were offered an easier version of the assessment. This was designed to better assess what students at the lower end of the spectrum understood. Two countries accepted the offer and although it was at a lower difficulty, the results were still comparable to every other PISA participant.\n",
    "\n",
    "This notebook cleans and prepares the data for visualization in Tableau."
   ]
  },
  {
   "cell_type": "markdown",
   "metadata": {},
   "source": [
    "# Plan of Attack\n",
    "\n",
    "1. Data cleaning (Python)\n",
    "2. Domain research (PISA reference manual, website)\n",
    "3. Data manipulation (Python)\n",
    "4. Exploration (Tableau)\n",
    "5. Explanatory Analysis (Tableau)"
   ]
  },
  {
   "cell_type": "markdown",
   "metadata": {},
   "source": [
    "# Data Cleaning\n",
    "\n",
    "The first step involved manipulating the data slightly to make better sense of the variables. I changed the variable abbreviations in the CSV to more descriptive names so they were human-readable. I suspect more work will be needed here."
   ]
  },
  {
   "cell_type": "markdown",
   "metadata": {},
   "source": [
    "## Consolidating US\n",
    "The US was split into FL, CT, MA and USA. All other countries were unified, so I consolidated the US into one variable (despite the fact that Massachusetts is a cut above the rest)."
   ]
  },
  {
   "cell_type": "code",
   "execution_count": 17,
   "metadata": {
    "collapsed": true,
    "scrolled": true
   },
   "outputs": [],
   "source": [
    "import pandas as pd\n",
    "pisa = pd.read_csv('data/pisa2012.csv')"
   ]
  },
  {
   "cell_type": "code",
   "execution_count": 18,
   "metadata": {
    "scrolled": true
   },
   "outputs": [
    {
     "data": {
      "text/html": [
       "<div>\n",
       "<style>\n",
       "    .dataframe thead tr:only-child th {\n",
       "        text-align: right;\n",
       "    }\n",
       "\n",
       "    .dataframe thead th {\n",
       "        text-align: left;\n",
       "    }\n",
       "\n",
       "    .dataframe tbody tr th {\n",
       "        vertical-align: top;\n",
       "    }\n",
       "</style>\n",
       "<table border=\"1\" class=\"dataframe\">\n",
       "  <thead>\n",
       "    <tr style=\"text-align: right;\">\n",
       "      <th></th>\n",
       "      <th>Unnamed: 0</th>\n",
       "      <th>CNT</th>\n",
       "      <th>SUBNATIO</th>\n",
       "      <th>STRATUM</th>\n",
       "      <th>OECD</th>\n",
       "      <th>NC</th>\n",
       "      <th>SCHOOLID</th>\n",
       "      <th>STIDSTD</th>\n",
       "      <th>ST01Q01</th>\n",
       "      <th>ST02Q01</th>\n",
       "      <th>...</th>\n",
       "      <th>W_FSTR75</th>\n",
       "      <th>W_FSTR76</th>\n",
       "      <th>W_FSTR77</th>\n",
       "      <th>W_FSTR78</th>\n",
       "      <th>W_FSTR79</th>\n",
       "      <th>W_FSTR80</th>\n",
       "      <th>WVARSTRR</th>\n",
       "      <th>VAR_UNIT</th>\n",
       "      <th>SENWGT_STU</th>\n",
       "      <th>VER_STU</th>\n",
       "    </tr>\n",
       "  </thead>\n",
       "  <tbody>\n",
       "    <tr>\n",
       "      <th>0</th>\n",
       "      <td>1</td>\n",
       "      <td>Albania</td>\n",
       "      <td>80000</td>\n",
       "      <td>ALB0006</td>\n",
       "      <td>Non-OECD</td>\n",
       "      <td>Albania</td>\n",
       "      <td>1</td>\n",
       "      <td>1</td>\n",
       "      <td>10</td>\n",
       "      <td>1.0</td>\n",
       "      <td>...</td>\n",
       "      <td>13.7954</td>\n",
       "      <td>13.9235</td>\n",
       "      <td>13.1249</td>\n",
       "      <td>13.1249</td>\n",
       "      <td>4.3389</td>\n",
       "      <td>13.0829</td>\n",
       "      <td>19</td>\n",
       "      <td>1</td>\n",
       "      <td>0.2098</td>\n",
       "      <td>22NOV13</td>\n",
       "    </tr>\n",
       "    <tr>\n",
       "      <th>1</th>\n",
       "      <td>2</td>\n",
       "      <td>Albania</td>\n",
       "      <td>80000</td>\n",
       "      <td>ALB0006</td>\n",
       "      <td>Non-OECD</td>\n",
       "      <td>Albania</td>\n",
       "      <td>1</td>\n",
       "      <td>2</td>\n",
       "      <td>10</td>\n",
       "      <td>1.0</td>\n",
       "      <td>...</td>\n",
       "      <td>13.7954</td>\n",
       "      <td>13.9235</td>\n",
       "      <td>13.1249</td>\n",
       "      <td>13.1249</td>\n",
       "      <td>4.3389</td>\n",
       "      <td>13.0829</td>\n",
       "      <td>19</td>\n",
       "      <td>1</td>\n",
       "      <td>0.2098</td>\n",
       "      <td>22NOV13</td>\n",
       "    </tr>\n",
       "    <tr>\n",
       "      <th>2</th>\n",
       "      <td>3</td>\n",
       "      <td>Albania</td>\n",
       "      <td>80000</td>\n",
       "      <td>ALB0006</td>\n",
       "      <td>Non-OECD</td>\n",
       "      <td>Albania</td>\n",
       "      <td>1</td>\n",
       "      <td>3</td>\n",
       "      <td>9</td>\n",
       "      <td>1.0</td>\n",
       "      <td>...</td>\n",
       "      <td>12.7307</td>\n",
       "      <td>12.7307</td>\n",
       "      <td>12.7307</td>\n",
       "      <td>12.7307</td>\n",
       "      <td>4.2436</td>\n",
       "      <td>12.7307</td>\n",
       "      <td>19</td>\n",
       "      <td>1</td>\n",
       "      <td>0.1999</td>\n",
       "      <td>22NOV13</td>\n",
       "    </tr>\n",
       "    <tr>\n",
       "      <th>3</th>\n",
       "      <td>4</td>\n",
       "      <td>Albania</td>\n",
       "      <td>80000</td>\n",
       "      <td>ALB0006</td>\n",
       "      <td>Non-OECD</td>\n",
       "      <td>Albania</td>\n",
       "      <td>1</td>\n",
       "      <td>4</td>\n",
       "      <td>9</td>\n",
       "      <td>1.0</td>\n",
       "      <td>...</td>\n",
       "      <td>12.7307</td>\n",
       "      <td>12.7307</td>\n",
       "      <td>12.7307</td>\n",
       "      <td>12.7307</td>\n",
       "      <td>4.2436</td>\n",
       "      <td>12.7307</td>\n",
       "      <td>19</td>\n",
       "      <td>1</td>\n",
       "      <td>0.1999</td>\n",
       "      <td>22NOV13</td>\n",
       "    </tr>\n",
       "    <tr>\n",
       "      <th>4</th>\n",
       "      <td>5</td>\n",
       "      <td>Albania</td>\n",
       "      <td>80000</td>\n",
       "      <td>ALB0006</td>\n",
       "      <td>Non-OECD</td>\n",
       "      <td>Albania</td>\n",
       "      <td>1</td>\n",
       "      <td>5</td>\n",
       "      <td>9</td>\n",
       "      <td>1.0</td>\n",
       "      <td>...</td>\n",
       "      <td>12.7307</td>\n",
       "      <td>12.7307</td>\n",
       "      <td>12.7307</td>\n",
       "      <td>12.7307</td>\n",
       "      <td>4.2436</td>\n",
       "      <td>12.7307</td>\n",
       "      <td>19</td>\n",
       "      <td>1</td>\n",
       "      <td>0.1999</td>\n",
       "      <td>22NOV13</td>\n",
       "    </tr>\n",
       "  </tbody>\n",
       "</table>\n",
       "<p>5 rows × 636 columns</p>\n",
       "</div>"
      ],
      "text/plain": [
       "   Unnamed: 0      CNT  SUBNATIO  STRATUM      OECD       NC  SCHOOLID  \\\n",
       "0           1  Albania     80000  ALB0006  Non-OECD  Albania         1   \n",
       "1           2  Albania     80000  ALB0006  Non-OECD  Albania         1   \n",
       "2           3  Albania     80000  ALB0006  Non-OECD  Albania         1   \n",
       "3           4  Albania     80000  ALB0006  Non-OECD  Albania         1   \n",
       "4           5  Albania     80000  ALB0006  Non-OECD  Albania         1   \n",
       "\n",
       "   STIDSTD  ST01Q01  ST02Q01   ...     W_FSTR75  W_FSTR76 W_FSTR77 W_FSTR78  \\\n",
       "0        1       10      1.0   ...      13.7954   13.9235  13.1249  13.1249   \n",
       "1        2       10      1.0   ...      13.7954   13.9235  13.1249  13.1249   \n",
       "2        3        9      1.0   ...      12.7307   12.7307  12.7307  12.7307   \n",
       "3        4        9      1.0   ...      12.7307   12.7307  12.7307  12.7307   \n",
       "4        5        9      1.0   ...      12.7307   12.7307  12.7307  12.7307   \n",
       "\n",
       "   W_FSTR79 W_FSTR80 WVARSTRR VAR_UNIT SENWGT_STU  VER_STU  \n",
       "0    4.3389  13.0829       19        1     0.2098  22NOV13  \n",
       "1    4.3389  13.0829       19        1     0.2098  22NOV13  \n",
       "2    4.2436  12.7307       19        1     0.1999  22NOV13  \n",
       "3    4.2436  12.7307       19        1     0.1999  22NOV13  \n",
       "4    4.2436  12.7307       19        1     0.1999  22NOV13  \n",
       "\n",
       "[5 rows x 636 columns]"
      ]
     },
     "execution_count": 18,
     "metadata": {},
     "output_type": "execute_result"
    }
   ],
   "source": [
    "pisa.head()"
   ]
  },
  {
   "cell_type": "markdown",
   "metadata": {},
   "source": [
    "## Change header names to descriptions\n",
    "1. Read the pisadict as a pandas file\n",
    "2. Create a list of header values from the pandas file\n",
    "3. Make the first list item blank (\"\")\n",
    "4. Append the remaining names\n",
    "5. Read the csv as a pandas dataframe\n",
    "6. Change the column names using the list of header values\n",
    "7. Create a new pisa csv from the modified pisa dataframe"
   ]
  },
  {
   "cell_type": "code",
   "execution_count": 19,
   "metadata": {
    "collapsed": true
   },
   "outputs": [],
   "source": [
    "pisa_dict = pd.read_csv('data/pisadict2012.csv')\n",
    "new_pisa_names = ['']\n",
    "for row in pisa_dict['x']:\n",
    "    new_pisa_names.append(row)\n",
    "pisa.columns = new_pisa_names"
   ]
  },
  {
   "cell_type": "code",
   "execution_count": null,
   "metadata": {
    "collapsed": true
   },
   "outputs": [],
   "source": [
    "pisa.head()"
   ]
  },
  {
   "cell_type": "markdown",
   "metadata": {},
   "source": [
    "## Clean up Country Codes\n",
    "\n",
    "Some country codes are unrecognizable. Need to change to standard names."
   ]
  },
  {
   "cell_type": "code",
   "execution_count": 21,
   "metadata": {
    "collapsed": true
   },
   "outputs": [],
   "source": [
    "country_dict = {\n",
    "    'Country code 3-character': {\n",
    "        'China-Shanghai': 'China',\n",
    "        'Chinese Taipei': 'Taiwan',\n",
    "        'Connecticut (USA)': 'United States',\n",
    "        'Florida (USA)': 'United States',\n",
    "        'Hong Kong-China': 'China',\n",
    "        'Korea': 'South Korea',\n",
    "        'Macao-China': 'China',\n",
    "        'Massachusetts (USA)': 'United States',\n",
    "        'Perm(Russian Federation)': 'Russia',\n",
    "        'Russian Federation': 'Russia',\n",
    "        'United States of America': 'United States'\n",
    "    }    \n",
    "}\n",
    "\n",
    "pisa_updated = pisa.replace(to_replace = country_dict)"
   ]
  },
  {
   "cell_type": "code",
   "execution_count": 9,
   "metadata": {
    "collapsed": true
   },
   "outputs": [],
   "source": [
    "pisa_updated.to_csv('data/pisa_updated.csv', chunksize = 20000, index = False)"
   ]
  },
  {
   "cell_type": "markdown",
   "metadata": {},
   "source": [
    "# Data Manipulation"
   ]
  },
  {
   "cell_type": "markdown",
   "metadata": {},
   "source": [
    "## Reduce CSV File Size"
   ]
  },
  {
   "cell_type": "code",
   "execution_count": 24,
   "metadata": {
    "collapsed": true
   },
   "outputs": [],
   "source": [
    "pisa_reduced = pisa[[\n",
    "    'Country code 3-character', \n",
    "    'Gender',\n",
    "    'Mother Current Job Status',\n",
    "    'Possessions - Internet',\n",
    "    'Time of computer use (mins)',\n",
    "    'How many - cellular phones',\n",
    "    'How many - televisions',\n",
    "    'How many - computers',\n",
    "    'How many - cars',\n",
    "    'How many - rooms bath or shower',\n",
    "    'How many books at home',\n",
    "    'Out-of-School Study Time - Homework',\n",
    "    'Min in <class period> - <test lang>',\n",
    "    'Min in <class period> - <Maths>',\n",
    "    'Min in <class period> - <Science>',\n",
    "    'No of <class period> p/wk - <test lang>',\n",
    "    'No of <class period> p/wk - <Maths>',\n",
    "    'No of <class period> p/wk - <Science>',\n",
    "    'No of ALL <class period> a week',\n",
    "    'Class Size - No of Students in <Test Language> Class',\n",
    "    'Teacher-Directed Instruction - Sets Clear Goals',\n",
    "    'Teacher-Directed Instruction - Encourages Thinking and Reasoning',\n",
    "    'Teacher-Directed Instruction - Checks Understanding',\n",
    "    'Teacher-Directed Instruction - Summarizes Previous Lessons',\n",
    "    'Teacher-Directed Instruction - Informs about Learning Goals',\n",
    "    'Highest parental education in years',\n",
    "    'Learning time (minutes per week)  - <test language>',\n",
    "    'Learning time (minutes per week)- <Mathematics>',\n",
    "    'Learning time (minutes per week) - <Science>',\n",
    "    'Plausible value 1 in mathematics',\n",
    "    'Plausible value 2 in mathematics',\n",
    "    'Plausible value 3 in mathematics',\n",
    "    'Plausible value 4 in mathematics',\n",
    "    'Plausible value 5 in mathematics',\n",
    "    'Plausible value 1 in reading',\n",
    "    'Plausible value 2 in reading',\n",
    "    'Plausible value 3 in reading',\n",
    "    'Plausible value 4 in reading',\n",
    "    'Plausible value 5 in reading',\n",
    "    'Plausible value 1 in science',\n",
    "    'Plausible value 2 in science',\n",
    "    'Plausible value 3 in science',\n",
    "    'Plausible value 4 in science',\n",
    "    'Plausible value 5 in science'\n",
    "]]"
   ]
  },
  {
   "cell_type": "code",
   "execution_count": 25,
   "metadata": {
    "collapsed": true
   },
   "outputs": [],
   "source": [
    "pisa_reduced.to_csv('data/pisa_reduced.csv')"
   ]
  }
 ],
 "metadata": {
  "kernelspec": {
   "display_name": "Python [conda env:DAND]",
   "language": "python",
   "name": "conda-env-DAND-py"
  },
  "language_info": {
   "codemirror_mode": {
    "name": "ipython",
    "version": 2
   },
   "file_extension": ".py",
   "mimetype": "text/x-python",
   "name": "python",
   "nbconvert_exporter": "python",
   "pygments_lexer": "ipython2",
   "version": "2.7.13"
  },
  "toc": {
   "nav_menu": {},
   "number_sections": true,
   "sideBar": true,
   "skip_h1_title": false,
   "toc_cell": false,
   "toc_position": {
    "height": "877px",
    "left": "0px",
    "right": "20px",
    "top": "106px",
    "width": "212px"
   },
   "toc_section_display": "block",
   "toc_window_display": true
  }
 },
 "nbformat": 4,
 "nbformat_minor": 2
}
